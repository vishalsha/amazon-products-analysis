{
 "cells": [
  {
   "cell_type": "raw",
   "metadata": {},
   "source": [
    "#Spark Code ~ Loading & Processing\n",
    "from pyspark import SparkContext\n",
    "from pyspark import SparkConf\n",
    "\n",
    "# create Spark context with Spark configuration\n",
    "conf = SparkConf().setAppName(\"read text file in pyspark\")\n",
    "sc = SparkContext(conf=conf)\n",
    "\n",
    "# Read amazon meta file into RDD\n",
    "lines = sc.textFile(\"amazon-meta.txt\")\n",
    "\n",
    "# Call collect() to get all data\n",
    "llist = lines.collect()\n",
    "\n",
    "# print line one by line\n",
    "#for line in llist:\n",
    "    #Create the metadata dictionary."
   ]
  },
  {
   "cell_type": "code",
   "execution_count": 124,
   "metadata": {},
   "outputs": [],
   "source": [
    "from collections import Counter\n",
    "from stop_words import get_stop_words\n",
    "from nltk.stem import PorterStemmer\n",
    "from nltk.stem import LancasterStemmer\n",
    "import re\n",
    "import matplotlib.pyplot as plt\n",
    "import pandas\n",
    "import numpy as np\n",
    "import string\n",
    "import networkx as nx\n",
    "import warnings\n",
    "warnings.filterwarnings(\"ignore\")\n",
    "fs = open('./amazon-meta_sample.txt', 'r', encoding='utf8', errors='ignore')\n",
    "(Id, ASIN, Title, SalesRank, Group, Categories, Similar, Reviews, Ratings)=(\"\",\"\",\"\",0,\"\",\"\",\"\",0,0.0)\n",
    "products = {}; Books = {}; Music = {}; Videos = {};"
   ]
  },
  {
   "cell_type": "code",
   "execution_count": 125,
   "metadata": {},
   "outputs": [],
   "source": [
    "#For normalization, convert to lower, remove punctuations, digits, stopwords, and 1-2 length words\n",
    "def geNormalizedText(string):\n",
    "    string = string.lower()\n",
    "    string = re.sub(r'[^\\w\\s]|\\d+|\\b\\w{1,2}\\b',' ',string)\n",
    "    string = ' '.join(set(string.split())-set(get_stop_words(\"english\")))\n",
    "    return string\n",
    "\n",
    "#Functions to return top n frequent collection from any group\n",
    "def keyfunc(k):\n",
    "    return count[k]\n",
    "\n",
    "def maxNSoldItem(count, n):\n",
    "    counterMap = {}\n",
    "    for key in sorted(count, key=keyfunc, reverse=True)[:n]:\n",
    "        counterMap[key] = count[key]\n",
    "    return counterMap"
   ]
  },
  {
   "cell_type": "code",
   "execution_count": 126,
   "metadata": {},
   "outputs": [],
   "source": [
    "#reading lines from the file and creating a products dictionary obj with asin as key and metadata as its value\n",
    "for line in fs:\n",
    "    MetaData = {}\n",
    "    line = line.strip()\n",
    "    if line.startswith(\"Id\",0):\n",
    "        Id = line[3:].strip()\n",
    "    elif line.startswith(\"ASIN\",0):\n",
    "        ASIN = line[5:].strip()\n",
    "    elif line.startswith(\"title\",0):\n",
    "        Title = line[7:].strip()\n",
    "    elif line.startswith(\"group\",0):\n",
    "        Group = line[6:].strip()\n",
    "    elif line.startswith(\"salesrank\",0):\n",
    "        SalesRank = line[10:].strip()\n",
    "    elif line.startswith(\"reviews\"):\n",
    "        ls = line.split()\n",
    "        Reviews = ls[2].strip()\n",
    "        Ratings = ls[7].strip()\n",
    "    elif(line.startswith(\"categories\")):\n",
    "        ls = line.split()\n",
    "        Categories = ' '.join((fs.readline()).lower() for i in range(int(ls[1].strip())))\n",
    "        Categories = geNormalizedText(Categories)\n",
    "    elif line.startswith(\"similar\",0):\n",
    "        ls = line.split()\n",
    "        Similar = ' '.join([similar for similar in ls[2:]])        \n",
    "    elif len(line) == 0:\n",
    "        MetaData['Id'] = Id\n",
    "        MetaData['Title'] = Title\n",
    "        MetaData['Group'] = Group\n",
    "        MetaData['SalesRank'] = SalesRank\n",
    "        MetaData['Categories'] = Categories\n",
    "        MetaData['Similar'] = Similar\n",
    "        MetaData['Reviews'] = Reviews\n",
    "        MetaData['Ratings'] = float(Ratings)\n",
    "        if ASIN != \"\": products[ASIN]= MetaData\n",
    "        (Id, ASIN, Title, SalesRank, Group, Categories, Similar, Reviews, Ratings)=(\"\",\"\",\"\",0,\"\",\"\",\"\",0,0.0)\n",
    "fs.close()"
   ]
  },
  {
   "cell_type": "code",
   "execution_count": 131,
   "metadata": {},
   "outputs": [
    {
     "name": "stdout",
     "output_type": "stream",
     "text": [
      "Videos:  384\n",
      "Books:  5695\n",
      "Music:  1566\n"
     ]
    },
    {
     "data": {
      "image/png": "[encoded data removed]",
      "text/plain": [
       "<Figure size 432x288 with 1 Axes>"
      ]
     },
     "metadata": {},
     "output_type": "display_data"
    }
   ],
   "source": [
    "MostSoldBooks = []\n",
    "MostSoldMusic = []\n",
    "MostSoldVideos = []\n",
    "BooksWithBetterReviews = {}\n",
    "MostRatedBooks = {}\n",
    "rated_1_2 = []\n",
    "rated_2_3 = []\n",
    "rated_3_4 = []\n",
    "rated_4_5 = []\n",
    "for asin,metadata in products.items():\n",
    "    if(metadata['Group'] == 'Book'):\n",
    "        Books[asin] = products[asin]  \n",
    "        for i in metadata['Similar'].split():\n",
    "            MostSoldBooks.append(i.strip())\n",
    "        BooksWithBetterReviews[asin] = int(metadata['Reviews'])\n",
    "        rating = float(metadata['Ratings'])\n",
    "        MostRatedBooks[asin] = rating\n",
    "        if rating > 1 and rating <= 2:\n",
    "            rated_1_2.append(asin)\n",
    "        elif rating > 2 and rating <= 3:\n",
    "            rated_2_3.append(asin)\n",
    "        elif rating > 3 and rating <= 4:\n",
    "            rated_3_4.append(asin)\n",
    "        elif rating >4 and rating <= 5:\n",
    "            rated_4_5.append(asin) \n",
    "    if(metadata['Group'] == 'Music'):\n",
    "        Music[asin] = products[asin]\n",
    "        for i in metadata['Similar'].split():\n",
    "            MostSoldMusic.append(i.strip())\n",
    "    if(metadata['Group'] == 'Video'):\n",
    "        Videos[asin] = products[asin]\n",
    "        for i in metadata['Similar'].split():\n",
    "            MostSoldVideos.append(i.strip())\n",
    "print(\"Videos: \",len(Videos))\n",
    "print(\"Books: \",len(Books))\n",
    "print(\"Music: \",len(Music))\n",
    "CategoriesCounter = [len(Books),len(Music),len(Videos)]\n",
    "#plt.hist(CategoriesCounter, bins=3)\n",
    "plt.pie(CategoriesCounter, labels=[\"Books\",\"Music\",\"Videos\"])\n",
    "ax = plt.show()"
   ]
  },
  {
   "cell_type": "code",
   "execution_count": null,
   "metadata": {},
   "outputs": [],
   "source": [
    "#top 3 Music based on Reviews\n",
    "sorted(Music.items(), key=lambda x: x[1]['Reviews'], reverse=True)[:3]"
   ]
  },
  {
   "cell_type": "code",
   "execution_count": null,
   "metadata": {},
   "outputs": [],
   "source": [
    "#top 3 Books based on Reviews\n",
    "sorted(Books.items(), key=lambda x: x[1]['Reviews'], reverse=True)[:3]"
   ]
  },
  {
   "cell_type": "code",
   "execution_count": null,
   "metadata": {},
   "outputs": [],
   "source": [
    "#top 3 Videos based on Reviews\n",
    "sorted(Videos.items(), key=lambda x: x[1]['Reviews'], reverse=True)[:3]"
   ]
  },
  {
   "cell_type": "markdown",
   "metadata": {},
   "source": [
    "Understanding the word Normalization:"
   ]
  },
  {
   "cell_type": "code",
   "execution_count": null,
   "metadata": {},
   "outputs": [],
   "source": [
    "porter = PorterStemmer()\n",
    "lancaster=LancasterStemmer()\n",
    "#proide a word to be stemmed\n",
    "print(\"Porter Stemmer\")\n",
    "print(porter.stem(\"Christianity\"))\n",
    "print(porter.stem(\"Sprituality\"))\n",
    "print(porter.stem(\"Clergy\"))\n",
    "print(porter.stem(\"earth\"))\n",
    "print(porter.stem(\"am\"))\n",
    "print(\"Lancaster Stemmer\")\n",
    "print(lancaster.stem(\"Christianity\"))\n",
    "print(lancaster.stem(\"Sprituality\"))\n",
    "print(lancaster.stem(\"Clergy\"))\n",
    "print(lancaster.stem(\"earth\"))"
   ]
  },
  {
   "cell_type": "markdown",
   "metadata": {},
   "source": [
    "We can find the Categories similarity. Similarity can determine how ‘close’ two pieces of text are both \n",
    "in surface closeness(lexical similarity) and meaning(semantic similarity).\n",
    "We can use Cosine Similarity here for categories as here we only want to match the common words and this \n",
    "eventually would help us in calculating the similarity. 0 means dissimilar, towards 1 means more similar."
   ]
  },
  {
   "cell_type": "code",
   "execution_count": 132,
   "metadata": {},
   "outputs": [
    {
     "data": {
      "text/plain": [
       "Text(0.5, 1.0, 'Top 10 Videos')"
      ]
     },
     "execution_count": 132,
     "metadata": {},
     "output_type": "execute_result"
    },
    {
     "data": {
      "image/png": "[encoded data removed]",
      "text/plain": [
       "<Figure size 432x288 with 1 Axes>"
      ]
     },
     "metadata": {
      "needs_background": "light"
     },
     "output_type": "display_data"
    },
    {
     "data": {
      "image/png": "[encoded data removed]",
      "text/plain": [
       "<Figure size 432x288 with 1 Axes>"
      ]
     },
     "metadata": {
      "needs_background": "light"
     },
     "output_type": "display_data"
    },
    {
     "data": {
      "image/png": "[encoded data removed]",
      "text/plain": [
       "<Figure size 432x288 with 1 Axes>"
      ]
     },
     "metadata": {
      "needs_background": "light"
     },
     "output_type": "display_data"
    }
   ],
   "source": [
    "#Top 10 items from respective groups with ASIN details;\n",
    "count = Counter(MostSoldBooks)\n",
    "#count = Counter(Similars).most_common(10)\n",
    "df = pandas.DataFrame.from_dict(maxNSoldItem(count, 10), orient='index')\n",
    "ax = df.plot(kind='bar', legend=False, color='purple')\n",
    "ax.set_xlabel(\"ASIN\")\n",
    "ax.set_ylabel(\"Frequency\")\n",
    "ax.set_title(\"Top 10 Books\")\n",
    "\n",
    "count = Counter(MostSoldMusic)\n",
    "#count = Counter(Similars).most_common(10)\n",
    "df = pandas.DataFrame.from_dict(maxNSoldItem(count, 10), orient='index')\n",
    "ax = df.plot(kind='bar', legend=False, color='#FF796C')\n",
    "ax.set_xlabel(\"ASIN\")\n",
    "ax.set_ylabel(\"Frequency\")\n",
    "ax.set_title(\"Top 10 Music\")\n",
    "\n",
    "count = Counter(MostSoldVideos)\n",
    "#count = Counter(Similars).most_common(10)\n",
    "df = pandas.DataFrame.from_dict(maxNSoldItem(count, 10), orient='index')\n",
    "ax = df.plot(kind='bar', legend=False, color='#FF6347')\n",
    "ax.set_xlabel(\"ASIN\")\n",
    "ax.set_ylabel(\"Frequency\")\n",
    "ax.set_title(\"Top 10 Videos\")"
   ]
  },
  {
   "cell_type": "code",
   "execution_count": 133,
   "metadata": {},
   "outputs": [
    {
     "name": "stdout",
     "output_type": "stream",
     "text": [
      "[('0807220280', 5539), ('0939173379', 4921), ('0385504209', 3049), ('1590073991', 1688), ('0451191145', 1244), ('0736605673', 992), ('0764585789', 709), ('0694525790', 698), ('0399214240', 681), ('038550926X', 631)]\n"
     ]
    },
    {
     "data": {
      "image/png": "[encoded data removed]",
      "text/plain": [
       "<Figure size 432x288 with 1 Axes>"
      ]
     },
     "metadata": {
      "needs_background": "light"
     },
     "output_type": "display_data"
    }
   ],
   "source": [
    "#Top 10 Books with most reviews\n",
    "\n",
    "count = Counter(BooksWithBetterReviews)\n",
    "df = pandas.DataFrame.from_dict(maxNSoldItem(count, 10), orient='index')\n",
    "ax = df.plot(kind='bar', legend=False, color='turquoise')\n",
    "ax.set_xlabel(\"ASIN\")\n",
    "ax.set_ylabel(\"Frequency\")\n",
    "ax.set_title(\"Top 10 reviewed books\")\n",
    "\n",
    "print(count.most_common(10))"
   ]
  },
  {
   "cell_type": "code",
   "execution_count": 137,
   "metadata": {},
   "outputs": [
    {
     "name": "stdout",
     "output_type": "stream",
     "text": [
      "[('0827229534', 5.0), ('0486287785', 5.0), ('0871318237', 5.0), ('3895780812', 5.0), ('0895872218', 5.0), ('0439240751', 5.0), ('1573221740', 5.0), ('0590568833', 5.0), ('0944708498', 5.0), ('0613100093', 5.0)]\n",
      "Books rated b'n 1-2:  49\n",
      "Books rated b'n 2-3:  304\n",
      "Books rated b'n 3-4:  1204\n",
      "Books rated b'n 4-5:  2445\n"
     ]
    },
    {
     "data": {
      "image/png": "[encoded data removed]",
      "text/plain": [
       "<Figure size 432x288 with 1 Axes>"
      ]
     },
     "metadata": {
      "needs_background": "light"
     },
     "output_type": "display_data"
    }
   ],
   "source": [
    "#Top 10 rated books \n",
    "count = Counter(MostRatedBooks).most_common(10)\n",
    "print(count)\n",
    "\n",
    "#how many books are rated from 1 t0 5, in range(1-2, 2-3, 3-4, 4-5) ?\n",
    "\n",
    "print(\"Books rated b'n 1-2: \", len(rated_1_2))\n",
    "print(\"Books rated b'n 2-3: \", len(rated_2_3))\n",
    "print(\"Books rated b'n 3-4: \", len(rated_3_4))\n",
    "print(\"Books rated b'n 4-5: \", len(rated_4_5))\n",
    "\n",
    "BookRatingsByRange = [len(rated_1_2),len(rated_2_3),len(rated_3_4),len(rated_4_5)]\n",
    "plt.bar([\"1 to 2\",\"2 to 3\",\"3 to 4\",\"4 to 5\"],BookRatingsByRange, color='purple')\n",
    "plt.xlabel(\"Rating Ranges\")\n",
    "plt.ylabel(\"No. of Products\")\n",
    "plt.title(\"Books' Ratings\")\n",
    "plt.show()"
   ]
  },
  {
   "cell_type": "code",
   "execution_count": 138,
   "metadata": {},
   "outputs": [],
   "source": [
    "for asin,metadata in Books.items():\n",
    "    Books[asin]['Similar'] = ' '.join([n for n in metadata['Similar'].split() if n in Books.keys()])"
   ]
  },
  {
   "cell_type": "code",
   "execution_count": 139,
   "metadata": {},
   "outputs": [],
   "source": [
    "from operator import itemgetter\n",
    "import networkx as nx\n",
    "from networkx.algorithms import community"
   ]
  },
  {
   "cell_type": "code",
   "execution_count": 140,
   "metadata": {},
   "outputs": [],
   "source": [
    "#Prepare the nodeList & edgeList\n",
    "G = nx.Graph()"
   ]
  },
  {
   "cell_type": "code",
   "execution_count": 142,
   "metadata": {},
   "outputs": [],
   "source": [
    "#Preparing the node list for Graph:\n",
    "_asin = []\n",
    "_similar = []\n",
    "_reviews = []\n",
    "_ratings = []\n",
    "for asin,metadata in products.items():\n",
    "    if(metadata['Group'] == 'Book'):\n",
    "        #data.append(products[asin],len(metadata['Similar']),metadata['Reviews'],metadata['Ratings'])\n",
    "        _asin.append(asin)\n",
    "        _similar.append(len(metadata['Similar']))\n",
    "        _reviews.append(metadata['Reviews'])\n",
    "        _ratings.append(metadata['Ratings'])\n",
    "dict = {'ASIN':_asin, 'Similar':_similar,'Reviews':_reviews,'Ratings':_ratings}\n",
    "df = pd.DataFrame(dict)\n",
    "df.to_csv('nodeList.csv', index = False)\n",
    "\n",
    "#Preparing the edge list for Graph:\n",
    "_source = []\n",
    "_target = []\n",
    "#_weights = similarity coefficient\n",
    "for asin,metadata in products.items():\n",
    "    if(metadata['Group'] == 'Book'):\n",
    "        for _asinRest in range(len(metadata['Similar'])):\n",
    "            _source.append(asin)\n",
    "            _target.append(metadata['Similar'][_asinRest])\n",
    "dict = {'Source':_source, 'Target':_target}\n",
    "df = pd.DataFrame(dict)\n",
    "df.to_csv('edgeList.csv', index = False)"
   ]
  },
  {
   "cell_type": "code",
   "execution_count": 143,
   "metadata": {},
   "outputs": [
    {
     "name": "stdout",
     "output_type": "stream",
     "text": [
      "5695\n",
      "1847\n"
     ]
    }
   ],
   "source": [
    "import csv\n",
    "node_names = []\n",
    "edges = []\n",
    "with open('nodeList.csv', 'r') as nodecsv:\n",
    "    nodereader = csv.reader(nodecsv)\n",
    "    nodes = [n for n in nodereader][1:]\n",
    "\n",
    "# Get a list of just the node names (the first item in each row)\n",
    "node_names = [n[0] for n in nodes]\n",
    "\n",
    "# Read in the edgelist file\n",
    "with open('edgeList.csv', 'r') as edgecsv:\n",
    "    edgereader = csv.reader(edgecsv)\n",
    "    edges = [tuple(e) for e in edgereader][1:]\n",
    "\n",
    "# Print the number of nodes and edges in our two lists\n",
    "print(len(node_names))\n",
    "print(len(edges))"
   ]
  },
  {
   "cell_type": "code",
   "execution_count": 144,
   "metadata": {},
   "outputs": [
    {
     "name": "stdout",
     "output_type": "stream",
     "text": [
      "Name: \n",
      "Type: Graph\n",
      "Number of nodes: 5707\n",
      "Number of edges: 1161\n",
      "Average degree:   0.4069\n"
     ]
    }
   ],
   "source": [
    "G.add_nodes_from(node_names) # Add nodes to the Graph\n",
    "G.add_edges_from(edges) # Add edges to the Graph\n",
    "print(nx.info(G))\n",
    "\n",
    "# Create an empty dictionary for each attribute\n",
    "similar_dict = {}\n",
    "reviews_dict = {}\n",
    "ratings_dict = {}\n",
    "\n",
    "for node in nodes: # Loop through the list of nodes, one row at a time\n",
    "    similar_dict[node[0]] = node[1] # Access the correct item, add it to the corresponding dictionary\n",
    "    reviews_dict[node[0]] = node[2]\n",
    "    ratings_dict[node[0]] = node[3]\n",
    "\n",
    "# Add each dictionary as a node attribute to the Graph object\n",
    "nx.set_node_attributes(G, similar_dict, 'similar_purchase')\n",
    "nx.set_node_attributes(G, reviews_dict, 'reviews')\n",
    "nx.set_node_attributes(G, ratings_dict, 'ratings')"
   ]
  },
  {
   "cell_type": "code",
   "execution_count": 145,
   "metadata": {},
   "outputs": [
    {
     "name": "stdout",
     "output_type": "stream",
     "text": [
      "Network density: 7.130542545846902e-05\n"
     ]
    }
   ],
   "source": [
    "#network density. This is simply the ratio of actual edges in the network to all possible edges in the network.\n",
    "#By displaying the number of connections (known as degree, see below) as the size of nodes.\n",
    "density = nx.density(G)\n",
    "print(\"Network density:\", density)"
   ]
  },
  {
   "cell_type": "markdown",
   "metadata": {},
   "source": [
    "#On a scale of 0 to 1, not a very dense network. A 0 would mean that there are no connections at all, \n",
    "#and a 1 would indicate that all possible edges are present (a perfectly connected network): \n",
    "#this network is on the lower end of that scale, but still far from 0."
   ]
  },
  {
   "cell_type": "code",
   "execution_count": 146,
   "metadata": {},
   "outputs": [
    {
     "name": "stdout",
     "output_type": "stream",
     "text": [
      "False\n"
     ]
    }
   ],
   "source": [
    "print(nx.is_connected(G))\n",
    "#False, means this graph as more than one component\n",
    "#Component - Connected Graph"
   ]
  },
  {
   "cell_type": "code",
   "execution_count": 147,
   "metadata": {},
   "outputs": [
    {
     "name": "stdout",
     "output_type": "stream",
     "text": [
      "189\n"
     ]
    }
   ],
   "source": [
    "# Next, use nx.connected_components to get the list of components,\n",
    "# then use the max() command to find the largest one:\n",
    "components = nx.connected_components(G)\n",
    "largest_component = max(components, key=len)\n",
    "#print(components)\n",
    "print(len(largest_component))"
   ]
  },
  {
   "cell_type": "code",
   "execution_count": 156,
   "metadata": {},
   "outputs": [
    {
     "name": "stdout",
     "output_type": "stream",
     "text": [
      "Network diameter of largest component: 4\n"
     ]
    }
   ],
   "source": [
    "# Create a \"subgraph\" of just the largest component\n",
    "# Then calculate the diameter of the subgraph.\n",
    "subgraph = G.subgraph(largest_component)\n",
    "diameter = nx.diameter(subgraph)\n",
    "print(\"Network diameter of largest component:\", diameter)"
   ]
  },
  {
   "cell_type": "raw",
   "metadata": {},
   "source": [
    "We can use Gephi to visualize the graph"
   ]
  },
  {
   "cell_type": "code",
   "execution_count": 149,
   "metadata": {},
   "outputs": [
    {
     "name": "stdout",
     "output_type": "stream",
     "text": [
      "Name: \n",
      "Type: Graph\n",
      "Number of nodes: 5695\n",
      "Number of edges: 146\n",
      "Average degree:   0.0513\n"
     ]
    }
   ],
   "source": [
    "G1 = nx.Graph()\n",
    "for asin,metadata in Books.items():\n",
    "    #add the node, ASIN\n",
    "    G1.add_node(asin)\n",
    "    categories = set((Books[asin]['Categories']).split())\n",
    "    similar_purchased = metadata['Similar'].split()\n",
    "    for s in similar_purchased:\n",
    "        s = s.strip()\n",
    "        G1.add_node(s)\n",
    "        similarPurchasedCategories = set((Books[s]['Categories']).split())\n",
    "        similarity = len(categories.union(similarPurchasedCategories))>0 and  round(len(categories.intersection(similarPurchasedCategories)) / len(categories.union(similarPurchasedCategories)),2) or 0\n",
    "        G1.add_edge(asin, s, weight=similarity)\n",
    "degree = nx.degree(G1)\n",
    "for asin in nx.nodes(G1):\n",
    "    Books[asin]['Degree'] = int(degree[asin])\n",
    "print(nx.info(G1))"
   ]
  }
 ],
 "metadata": {
  "kernelspec": {
   "display_name": "Python 3",
   "language": "python",
   "name": "python3"
  },
  "language_info": {
   "codemirror_mode": {
    "name": "ipython",
    "version": 3
   },
   "file_extension": ".py",
   "mimetype": "text/x-python",
   "name": "python",
   "nbconvert_exporter": "python",
   "pygments_lexer": "ipython3",
   "version": "3.8.5"
  }
 },
 "nbformat": 4,
 "nbformat_minor": 4
}
